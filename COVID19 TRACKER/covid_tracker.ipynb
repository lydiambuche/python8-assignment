{
 "cells": [
  {
   "cell_type": "code",
   "execution_count": null,
   "id": "fd0d9fb2",
   "metadata": {
    "vscode": {
     "languageId": "plaintext"
    }
   },
   "outputs": [],
   "source": [
    "# Import necessary libraries\n",
    "import pandas as pd\n",
    "import matplotlib.pyplot as plt\n",
    "import seaborn as sns\n",
    "\n",
    "# Load COVID-19 data (Replace this URL with the actual data URL)\n",
    "url = \"https://raw.githubusercontent.com/CSSEGISandData/COVID-19/master/csse_covid_19_data/csse_covid_19_time_series/time_series_covid19_confirmed_global.csv\"\n",
    "covid_data = pd.read_csv(url)\n",
    "\n",
    "# Display the first few rows of the data\n",
    "covid_data.head()\n",
    "\n",
    "# Clean and format the data (melt the data to make it easier to analyze)\n",
    "covid_data_melted = covid_data.melt(id_vars=[\"Province/State\", \"Country/Region\", \"Lat\", \"Long\"], \n",
    "                                    var_name=\"Date\", value_name=\"Confirmed\")\n",
    "covid_data_melted[\"Date\"] = pd.to_datetime(covid_data_melted[\"Date\"])\n",
    "\n",
    "# Group by Country and Date, and get total confirmed cases\n",
    "covid_country = covid_data_melted.groupby([\"Country/Region\", \"Date\"])[\"Confirmed\"].sum().reset_index()\n",
    "\n",
    "# Visualize trends for a specific country (e.g., \"USA\")\n",
    "usa_data = covid_country[covid_country[\"Country/Region\"] == \"US\"]\n",
    "plt.figure(figsize=(10,6))\n",
    "plt.plot(usa_data[\"Date\"], usa_data[\"Confirmed\"], label=\"Confirmed Cases\")\n",
    "plt.title(\"COVID-19 Confirmed Cases in USA\")\n",
    "plt.xlabel(\"Date\")\n",
    "plt.ylabel(\"Confirmed Cases\")\n",
    "plt.legend()\n",
    "plt.xticks(rotation=45)\n",
    "plt.grid(True)\n",
    "plt.show()\n",
    "\n",
    "# Add more visualizations or analysis as needed\n"
   ]
  }
 ],
 "metadata": {
  "language_info": {
   "name": "python"
  }
 },
 "nbformat": 4,
 "nbformat_minor": 5
}
